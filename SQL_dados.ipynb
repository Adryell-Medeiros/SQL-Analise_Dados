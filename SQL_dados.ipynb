{
 "cells": [
  {
   "cell_type": "markdown",
   "id": "ef929a8a-7818-4a8c-9552-1c7d385c8e56",
   "metadata": {},
   "source": [
    "# Adryell Alexandre Campos Medeiros"
   ]
  },
  {
   "cell_type": "markdown",
   "id": "099e08a7-372b-4b78-8664-4a5bf32f1447",
   "metadata": {},
   "source": [
    "# SQL - Análise de Dados"
   ]
  },
  {
   "cell_type": "markdown",
   "id": "aa7b9667-88f9-4560-a466-93cb9f7da2c6",
   "metadata": {
    "jp-MarkdownHeadingCollapsed": true
   },
   "source": [
    "## Comandos Básicos"
   ]
  },
  {
   "cell_type": "markdown",
   "id": "f988c791-597b-432d-b888-07dad73a59f7",
   "metadata": {},
   "source": [
    "### Select\n",
    "\n",
    "O comando 'select' tem como propriedade selecioinar as colunas das tabelas referenciadas a este.<br>\n",
    "Exemplo de sintaxe: select coluna_1, coluna_2, coluna_3 from schema_1.tabela_1<br>\n",
    "                    select * from schema_1.tabela_1 (o * é utilizado para selecionar todas as colunas)\n",
    "\n",
    "### Distinct\n",
    "O comando 'distinct' serve para remover linhas duplicadas e mostrar apenas linhas distintas, um comando de bastante uso na exploração dos dados.<br>\n",
    "Exemplo de sintaxe: select distinct coluna1, coluna2, coluna3<br> \n",
    "                    from schema_1.tabela_1\n",
    "\n",
    "### Where\n",
    "O comando 'where' realiza um filtro nos dados através de uma condição, no qual são retornados os dados apenas onde a condição é verdadeira.\n",
    "Exemplo de sintaxe: select coluna_1, coluna_2, coluna_3<br>\n",
    "                    from schema_1.tabela_1<br>\n",
    "                    where condicao = true\n",
    "\n",
    "\n",
    "### Order by\n",
    "O comando 'order by' ordena uma seleção de acordo com as regras definidas no script. <br>\n",
    "Exemplo de sintaxe: select coluna_1, coluna_2, coluna_3<br>\n",
    "                    from schema_1.tabela_1<br>\n",
    "                    where condição_x=true<br>\n",
    "                    order by coluna_1\n",
    "\n",
    "### Limit\n",
    "O comando 'limit' seleciona apenas as N linhas da base de dados.<br>\n",
    "Exemplo de sintaxe: select coluna_1, coluna_2, coluna_3<br>\n",
    "                    from schema_1.tabela_1<br>\n",
    "                    limit N\n"
   ]
  },
  {
   "cell_type": "markdown",
   "id": "0485f716-4444-4092-9bd2-859b29003fb7",
   "metadata": {
    "jp-MarkdownHeadingCollapsed": true
   },
   "source": [
    "## Operadores"
   ]
  },
  {
   "cell_type": "markdown",
   "id": "63e65005-1c26-44dd-b35c-e7eec5a4cad1",
   "metadata": {},
   "source": [
    "### Operadores Aritméticos\n",
    "Servem para realizar operações matemáticas entre colunas, tendo uma vasta utilização na criação de colunas calculadas.<br>\n",
    "Exemplo de sintaxe: select coluna_1, coluna_2, (current_date - coluna_2)/365 as \"idade\"<br>\n",
    "                    from schema_1.tabela_1\n",
    "\n",
    "### Operadores de Comparação\n",
    "Suas funções são comparar dois valore retornando 'TRUE' ou 'FALSE', muitas das vezes utilizado em conjunto com a função 'WHERE' para filtrar linhas de uma seleção.<br>\n",
    "Exemplo de sintaxe: select coluna_1, coluna_2, coluna_3,<br>\n",
    "                \t(coluna_3 = 'X') as coluna_3_X<br>\n",
    "                    from schema_1.tabela_1\n",
    "\n",
    "### Operadores Lógicos\n",
    "Tem como função unir expressões simples em uma expressão composta.<br>\n",
    "Exemplo de sintaxe: select *<br>\n",
    "                    from schema_1.tabela_1<br>\n",
    "                    where coluna_1 between 100000 and 200000"
   ]
  },
  {
   "cell_type": "markdown",
   "id": "e0980b91-aff8-4e8d-b20a-5ae7afa52ff9",
   "metadata": {
    "jp-MarkdownHeadingCollapsed": true
   },
   "source": [
    "## Funções Agregadas"
   ]
  },
  {
   "cell_type": "markdown",
   "id": "b330e520-6155-4bb8-9b95-ea1eb4ab629c",
   "metadata": {},
   "source": [
    "### Funções de Agregações\n",
    "Servem para executar operações aritmética nos registros de uma coluna, vale ressaltar que as funções agregadas não computam as células vazias (NULL) como zero.<br>\n",
    "Exemplo de sintaxe: select min(coluna_1), max(coluna_2), avg(coluna_3)<br>\n",
    "                    from schema_1.tabela_1\n",
    "\n",
    "### Group By\n",
    "O comando 'group by' é utilizado para agrupar registros semelhantes de uma coluna, onde normalmente é utilizado em conjunto com funções de agregrações.<br>\n",
    "Exemplo de sintaxe: select coluna_1, count(*) as contagem<br>\n",
    "                    from schema_1.tabela_1<br>\n",
    "                    group by coluna_1<br>\n",
    "                    order by contagem\n",
    "\n",
    "### Having\n",
    "O comando 'having' serve para realizar um filtro nas linhas de seleção por uma coluna agrupada.<br>\n",
    "Exemplo de sintaxe: select coluna_1, count(*)<br>\n",
    "                    from schema_1.tabela_1<br>\n",
    "                    group by coluna_1<br>\n",
    "                    having count(*) > 100\n"
   ]
  },
  {
   "cell_type": "markdown",
   "id": "b20471ea-9c23-411a-add4-177caf483a78",
   "metadata": {
    "jp-MarkdownHeadingCollapsed": true
   },
   "source": [
    "## Joins"
   ]
  },
  {
   "cell_type": "markdown",
   "id": "cae664e4-7ab4-4bbc-9e01-528af5ab1cba",
   "metadata": {},
   "source": [
    "O comando 'JOIN' corresponde a união de tabelas, onde é possível acessar em uma busca os dados em diferentes tabelas que possuam uma conexão entre si através de chaves extrangeiras, ou seja, utilizado para combinar duas ou mais tabelas. Existem diferentes tipos de união de tabelas, sendo elas:<br>\n",
    "\n",
    "### Left Join:\n",
    "Os dados de busca serão todos referentes a tabela esquerda e os dados de interseção entre as duas tabelas. Observação: destaca-se que a tabela esquerda é a que foi declarada primeira.<br>\n",
    "Exemplo de sintaxe: select t1.coluna_1, t1.coluna_2, t2.coluna_2<br>\n",
    "                    from schema_1.tabela_1 t1<br>\n",
    "                    left join schema_1.tabela_2 t2 on t1.coluna_1cpf = t2.coluna_2\n",
    "\n",
    "### Inner Join:\n",
    "Os dados selecionados serão apenas os dados da interseção entre as duas tabelas.\n",
    "Exemplo de sintaxe: select t1.coluna_1, t1.coluna_2, t2.coluna_2<br>\n",
    "                    from schema_1.tabela_1 t1<br>\n",
    "                    inner join schema_1.tabela_2 t2 on t1.coluna_1cpf = t2.coluna_2\n",
    "\n",
    "### Right Join:\n",
    "De maneira semelhante ao comando 'LEFT JOIN' os dados selecionados serão todos presentes na tabela a dirita e os que possuem interseção entre as duas tabelas. Oservação: destaca-se que a tabela direita é a que foi declarada por último.\n",
    "Exemplo de sintaxe: select t2.coluna_1, t1.coluna_2, t2.coluna_2<br>\n",
    "                    from schema_1.tabela_1 t1<br>\n",
    "                    right join schema_1.tabela_2 t2 on t1.coluna_1cpf = t2.coluna_2\n",
    "\n",
    "### Full Join:\n",
    "Serão selecionados todos os dados de ambas as tabelas.\n",
    "Exemplo de sintaxe: select t1.coluna_1, t1.coluna_2, t2.coluna_2<br>\n",
    "                    from schema_1.tabela_1 t1<br>\n",
    "                    full join schema_1.tabela_2 t2 on t1.coluna_1cpf = t2.coluna_2\n",
    "\n",
    "**Observação:** O comando 'JOIN' sozinho corresponde ao comando 'INNER JOIN'. "
   ]
  },
  {
   "cell_type": "markdown",
   "id": "fc930002-3776-4765-8500-c53336562680",
   "metadata": {
    "jp-MarkdownHeadingCollapsed": true
   },
   "source": [
    "## Unions"
   ]
  },
  {
   "cell_type": "markdown",
   "id": "b0f8e19c-478c-4160-a261-5b81891419ef",
   "metadata": {},
   "source": [
    "O comando 'UNION' serve para unir duas tabelas, desde que as tabelas possuam mesma quantidade de colunas e mesto tipo de dados. Onde esxistem duas formas de união, sendo elas:\n",
    "\n",
    "### Union All:\n",
    "\n",
    "Não remove as linhas duplicadas, sendo computacionalmente masi leve.<br>\n",
    "Exemplo de sintaxe: select coluna_1, coluna_2<br>\n",
    "                    from schema_1.tabela_1<br>\n",
    "                    union all<br>\n",
    "                    select coluna_3, coluna_4<br> \n",
    "                    from schema_2.tabela_2\n",
    "\n",
    "\n",
    "### Union:\n",
    "\n",
    "Remove as linhas duplicadas, sendo computacionalmente mais pesado.<br>\n",
    "Exemplo de sintaxe: select coluna_1, coluna_2<br>\n",
    "                    from schema_1.tabela_1<br>\n",
    "                    union<br>\n",
    "                    select coluna_3, coluna_4<br> \n",
    "                    from schema_2.tabela_2"
   ]
  },
  {
   "cell_type": "markdown",
   "id": "b44c8719-fdae-4920-8869-efaa627144b8",
   "metadata": {
    "jp-MarkdownHeadingCollapsed": true
   },
   "source": [
    "## Subqueries"
   ]
  },
  {
   "cell_type": "markdown",
   "id": "c092a339-30f7-41c8-aaf4-c29490fe51a3",
   "metadata": {},
   "source": [
    "As subqueries servem para consultar dados de outras consultas, ou seja, é uma consulta de forma aninhada, se tratando de um consulta dentro de outra consulta. Os dados são passados da consulta mais interna para a mais externa. Alguns tipos de subqueries são:\n",
    "\n",
    "### Where:\n",
    "A subquery no comando 'WHERE' ocorre quando são passados parâmetros neste comando ao realizar a query, destaca que para que funcione deve retornar apenas um valor.\n",
    "\n",
    "### With:\n",
    "A subquery no com o comando 'WITH' corresponde a criação de uma outra query, muitas das vezes uma tabela, que será auxiliadora ou que resolverá parte de um problema para que esse possa ser continuado em outra query.\n",
    "\n",
    "### From:\n",
    "A subquery no comando 'FROM' ocorre quando são passados parâmetros neste comando ao realizar a query, neste caso recomenda-se a utilização do comando 'WITH' para tentar resolver o problema. Subqueries no comando 'FROM' dificultam a legibilidade por isso não são muito recomendadas.\n",
    "\n",
    "### Select:\n",
    "A subquery no comando 'SELECT' ocorre quando são passados parâmetros neste comando ao realizar a query, destaca-se que para que funcione a subquerie deve retornar apenas um valor."
   ]
  },
  {
   "cell_type": "markdown",
   "id": "338acb55-d980-4ecc-8b10-f79cdf9033ec",
   "metadata": {
    "jp-MarkdownHeadingCollapsed": true
   },
   "source": [
    "## Tratamento de dados"
   ]
  },
  {
   "cell_type": "markdown",
   "id": "18628e52-be9e-4623-838f-a0cf1d8115dd",
   "metadata": {},
   "source": [
    "Os tratamentos de dados são utilizados para que seja realizada uma conversão nos dados e estes estejam de maneira que sejam aceitas póssíveis buscas, passagem de parâmetros, operações com os dados, entre outros. Existem alguns tratamentos em específico, sendo estes: <br>\n",
    "\n",
    "### Conversão de unidades:\n",
    "A conversão de unidades é necessária quando se deseja realizar uma operação com alguns dados em específicos, mas estes encontram-se em unidades diferentes das necessárias. Podem ser utilizados o comando '::' ou 'CAST ()'.<br>\n",
    "Exemplo de sintaxe:<br>\n",
    ">                   select nome_coluna::date\n",
    ">                   from nome_tabela\n",
    ">                  \n",
    ">                   select cast(nome_coluna as date)\n",
    ">                   from nome_tabela\n",
    "\n",
    "### Tratamento geral:\n",
    "O tratamento geral de dados é recomendado quando é necessário realizar tratamentos específicos na base de dados. Alguns métodos utilizados são o comando 'COALECE()' e 'CASE WHEN'.\n",
    "\n",
    "### Tratamento de texto:\n",
    "O tratamento de texto ocorre quando é necessário realizar tratamentos específicos na base de dados relacionados com os textos. Alguns métodos utilizados são os comandos 'LOWER()', 'REPLACE()', 'UPPER()', 'TRIM()'.<BR>\n",
    "Exemplo de sintaxe: <br>\n",
    ">                 select lower ('EXEMPLO') = 'exemplo'\n",
    ">                 select replace ('Exemplo', 'Exemplo', 'Exemplos') = 'Exemplos'\n",
    ">                 select upper ('exemplo') = 'EXEMPLO'\n",
    ">                 select trim ('     Exemplo    ') = 'Exemplo' --Remove os espaços das extremidades\n",
    "\n",
    "### Tratamento de data:\n",
    "O tratamento de datas é necessário em casos que precisa realizar operações com datas. Existem alguns métodos sendo eles:<br>\n",
    "-         'INTERVAL': utilizado para somar datas na unidade desajada, como default o ambiente entende que a unidade a ser calculada é o dia.\n",
    "          Exemplo de sintaxe: select (current_date + interval '10 weeks')::date\n",
    "-         'DATE_TRUNC': é utilizado para resumir (truncar) uma data ao início de um período.\n",
    "          Exemplo de sintaxe: select date_trunc('month', coluna_data)::date as coluna_mes\n",
    "-         'EXTRACT': utilizado para extrair unidades de uma data.\n",
    "          Exemplo de sintaxe: select extract('dow' from coluna_data) as dia_da_semana\n",
    "-         Operadores Aritméticos: outra maneira de realizar o tratamento de datas é através de operadores aritméticos.\n",
    "\n",
    "### Funções:\n",
    "As funções tem como objetivo e funcionalidade criar comandos personalizados de scripts usados recorrentemente, dos quais não estão inseridos por padrão no ambiente de desenvolvimento.<br>\n",
    "Exemplo de sintaxe:<br>\n",
    "create function datediff(unidade varchar, data_inicial date, data_final date)\n",
    "returns integer\n",
    "language sql\n",
    "\n",
    "as\n",
    "\n",
    "$$\n",
    "\n",
    "\t select\n",
    "\t \t case\n",
    "\t\t\t when unidade in ('d', 'day', 'days') then (data_final - data_inicial)\n",
    "\t\t\t when unidade in ('w', 'week', 'weeks') then (data_final - data_inicial)/7\n",
    "\t\t\t when unidade in ('m', 'month', 'months') then (data_final - data_inicial)/30\n",
    "\t\t\t when unidade in ('y', 'year', 'years') then (data_final - data_inicial)/365\n",
    "\t\t\t end as diferenca\n",
    "\n",
    "$$\n",
    "\n",
    "select datediff('years', '2021-02-04', current_date)"
   ]
  },
  {
   "cell_type": "markdown",
   "id": "b838638d-cf45-4f83-b7be-05129962db24",
   "metadata": {},
   "source": [
    "## Manipulação de Tabelas"
   ]
  },
  {
   "cell_type": "markdown",
   "id": "7544f4e9-ed02-4306-946c-78e3ce0de804",
   "metadata": {},
   "source": [
    "### Create:\n",
    "O comando 'CREATE ()' é utilizado na criação de tabelas, através de uma query específica ou a partir do zero.<br>\n",
    "Exemplo de sintaxe:<br>\n",
    "create table schema_1.tabela_1(<br>\n",
    "    coluna_1 varchar primary key,<br>\n",
    "    coluna_2 integer<br>\n",
    "); --Do zero\n",
    "\n",
    "select coluna_1, (coluna_3 - coluna_2) as coluna_4<br>\n",
    "\tinto schema_1.tabela_2\n",
    "from schema_1.tabela_1\n",
    "\n",
    "### Drop:\n",
    "O comando 'DROP' é utilizado para realizar a exclusão de tabelas ou funções.<br>\n",
    "Exemplo de sintaxe:<br>\n",
    "drop table schema_1.tabela_1\n",
    "\n",
    "### Insert:\n",
    "O comando 'INSERT' é utilizado para realizar a inserção de linhas em uma tabela.<br>\n",
    "Exemplo de sintaxe:<br>\n",
    "insert into scheam_1.tabela_1 (coluna_1, coluna_2) values (x, y)\n",
    "\n",
    "### Update:\n",
    "O comando 'UPDATE' é utilizado para atualizar as linhas de uma tabela.<br>\n",
    "Exemplo de sintaxe:<br>\n",
    "update schema_1.tabela_1<br>\n",
    "set coluna_1 = 'exemplo'\n",
    "where coluna_2 = 'EXEMPLO'\n",
    "\n",
    "### Delete:\n",
    "O comando 'DELETE' é utilizado para deletar as linhas de uma tabela.<br>\n",
    "Exemplo de sintaxe:<br>\n",
    "delete from schema_1.tabela_1<br>\n",
    "where coluna_1 = 'exemplo'\n",
    "or coluna_2 = 'EXEMPLO'\n",
    "\n",
    "### Alter Table:\n",
    "O comando 'ALTER TABLE' é utilizado para realizar qualquer alteração em colunas de uma tabela. Sendo algumas dessas alterações adição de colunas ('ADD NOME_COLUNA'), tipo de coluna ('ALTER COLUMN NOME_COLUNA TYPE VARCHAR'), renomear a coluna ('RENAME COLUMN NOME_COLUNA TO NOME_COLUNA_1'), deletar coluna ('DROP COLUMN NOME_COLUNA').<br>\n",
    "Exemplo de sintaxe:<br>\n",
    "alter table schema_1.tabela_1<br>\n",
    "rename column coluna_1 to coluna_2"
   ]
  }
 ],
 "metadata": {
  "kernelspec": {
   "display_name": "Python 3 (ipykernel)",
   "language": "python",
   "name": "python3"
  },
  "language_info": {
   "codemirror_mode": {
    "name": "ipython",
    "version": 3
   },
   "file_extension": ".py",
   "mimetype": "text/x-python",
   "name": "python",
   "nbconvert_exporter": "python",
   "pygments_lexer": "ipython3",
   "version": "3.12.7"
  }
 },
 "nbformat": 4,
 "nbformat_minor": 5
}
